{
 "cells": [
  {
   "cell_type": "markdown",
   "id": "f028f88a-714e-44a9-b4be-95c0a0d00827",
   "metadata": {},
   "source": [
    "# Model exploration"
   ]
  },
  {
   "cell_type": "code",
   "execution_count": 159,
   "id": "c82ee91d-7362-4ac7-83ff-2c4bf2f55744",
   "metadata": {},
   "outputs": [],
   "source": [
    "import pandas as pd\n",
    "from sklearn.model_selection import train_test_split\n",
    "from sklearn.linear_model import LogisticRegression\n",
    "from sklearn.metrics import accuracy_score, precision_score, recall_score, f1_score\n",
    "from sklearn.tree import DecisionTreeClassifier\n",
    "from sklearn.ensemble import RandomForestClassifier\n",
    "from xgboost import XGBClassifier, plot_importance\n",
    "import shap\n",
    "import mlflow"
   ]
  },
  {
   "cell_type": "code",
   "execution_count": 39,
   "id": "795e614c-25e9-4f4e-af9b-eff7c33e8bf1",
   "metadata": {},
   "outputs": [],
   "source": [
    "# parameters\n",
    "seed = 42\n",
    "test_size=0.3"
   ]
  },
  {
   "cell_type": "code",
   "execution_count": 32,
   "id": "ca821971-80dd-48a2-8d91-0437c5c53f02",
   "metadata": {},
   "outputs": [],
   "source": [
    "df_raw = pd.read_feather(\"../../data/processed/data-set.ftr\")"
   ]
  },
  {
   "cell_type": "code",
   "execution_count": 121,
   "id": "ad969e18-229b-48c5-9bd2-338910fd6641",
   "metadata": {},
   "outputs": [
    {
     "data": {
      "text/html": [
       "<div>\n",
       "<style scoped>\n",
       "    .dataframe tbody tr th:only-of-type {\n",
       "        vertical-align: middle;\n",
       "    }\n",
       "\n",
       "    .dataframe tbody tr th {\n",
       "        vertical-align: top;\n",
       "    }\n",
       "\n",
       "    .dataframe thead th {\n",
       "        text-align: right;\n",
       "    }\n",
       "</style>\n",
       "<table border=\"1\" class=\"dataframe\">\n",
       "  <thead>\n",
       "    <tr style=\"text-align: right;\">\n",
       "      <th></th>\n",
       "      <th>subscriber</th>\n",
       "      <th>income</th>\n",
       "      <th>age</th>\n",
       "      <th>var1</th>\n",
       "      <th>gender</th>\n",
       "      <th>house_type</th>\n",
       "      <th>lastVisit</th>\n",
       "      <th>product02</th>\n",
       "      <th>house_type_bin</th>\n",
       "      <th>gender_bin</th>\n",
       "      <th>lastVisit_dt</th>\n",
       "      <th>lastVisit_year</th>\n",
       "      <th>lastVisit_month</th>\n",
       "      <th>lastVisit_days</th>\n",
       "      <th>product02_bin</th>\n",
       "      <th>income_imputed</th>\n",
       "      <th>age_imputed</th>\n",
       "      <th>var1_imputed</th>\n",
       "      <th>house_type_imputed</th>\n",
       "      <th>house_type_bin_imputed</th>\n",
       "    </tr>\n",
       "  </thead>\n",
       "  <tbody>\n",
       "    <tr>\n",
       "      <th>0</th>\n",
       "      <td>1</td>\n",
       "      <td>118239.80</td>\n",
       "      <td>74.32310</td>\n",
       "      <td>1.216512</td>\n",
       "      <td>f</td>\n",
       "      <td>OWNER</td>\n",
       "      <td>1/1/2012 2:09</td>\n",
       "      <td>Nee</td>\n",
       "      <td>1.0</td>\n",
       "      <td>0.0</td>\n",
       "      <td>2012-01-01 02:09:00</td>\n",
       "      <td>2012</td>\n",
       "      <td>1</td>\n",
       "      <td>1</td>\n",
       "      <td>0</td>\n",
       "      <td>False</td>\n",
       "      <td>False</td>\n",
       "      <td>False</td>\n",
       "      <td>False</td>\n",
       "      <td>False</td>\n",
       "    </tr>\n",
       "    <tr>\n",
       "      <th>1</th>\n",
       "      <td>2</td>\n",
       "      <td>348760.40</td>\n",
       "      <td>45.86138</td>\n",
       "      <td>3.672188</td>\n",
       "      <td>f</td>\n",
       "      <td>OWNER</td>\n",
       "      <td>1/1/2012 14:03</td>\n",
       "      <td>Ja</td>\n",
       "      <td>1.0</td>\n",
       "      <td>0.0</td>\n",
       "      <td>2012-01-01 14:03:00</td>\n",
       "      <td>2012</td>\n",
       "      <td>1</td>\n",
       "      <td>1</td>\n",
       "      <td>1</td>\n",
       "      <td>False</td>\n",
       "      <td>False</td>\n",
       "      <td>False</td>\n",
       "      <td>False</td>\n",
       "      <td>False</td>\n",
       "    </tr>\n",
       "    <tr>\n",
       "      <th>2</th>\n",
       "      <td>3</td>\n",
       "      <td>96111.34</td>\n",
       "      <td>43.18818</td>\n",
       "      <td>0.578956</td>\n",
       "      <td>f</td>\n",
       "      <td>OWNER</td>\n",
       "      <td>1/1/2012 23:58</td>\n",
       "      <td>Nee</td>\n",
       "      <td>1.0</td>\n",
       "      <td>0.0</td>\n",
       "      <td>2012-01-01 23:58:00</td>\n",
       "      <td>2012</td>\n",
       "      <td>1</td>\n",
       "      <td>1</td>\n",
       "      <td>0</td>\n",
       "      <td>False</td>\n",
       "      <td>False</td>\n",
       "      <td>False</td>\n",
       "      <td>False</td>\n",
       "      <td>False</td>\n",
       "    </tr>\n",
       "    <tr>\n",
       "      <th>3</th>\n",
       "      <td>4</td>\n",
       "      <td>73818.17</td>\n",
       "      <td>43.32941</td>\n",
       "      <td>-0.129441</td>\n",
       "      <td>m</td>\n",
       "      <td>RENTAL</td>\n",
       "      <td>1/2/2012 3:51</td>\n",
       "      <td>Ja</td>\n",
       "      <td>0.0</td>\n",
       "      <td>1.0</td>\n",
       "      <td>2012-01-02 03:51:00</td>\n",
       "      <td>2012</td>\n",
       "      <td>1</td>\n",
       "      <td>2</td>\n",
       "      <td>1</td>\n",
       "      <td>False</td>\n",
       "      <td>False</td>\n",
       "      <td>False</td>\n",
       "      <td>False</td>\n",
       "      <td>False</td>\n",
       "    </tr>\n",
       "    <tr>\n",
       "      <th>4</th>\n",
       "      <td>5</td>\n",
       "      <td>36469.51</td>\n",
       "      <td>34.87954</td>\n",
       "      <td>-0.127675</td>\n",
       "      <td>m</td>\n",
       "      <td>RENTAL</td>\n",
       "      <td>1/2/2012 13:50</td>\n",
       "      <td>Nee</td>\n",
       "      <td>0.0</td>\n",
       "      <td>1.0</td>\n",
       "      <td>2012-01-02 13:50:00</td>\n",
       "      <td>2012</td>\n",
       "      <td>1</td>\n",
       "      <td>2</td>\n",
       "      <td>0</td>\n",
       "      <td>False</td>\n",
       "      <td>False</td>\n",
       "      <td>False</td>\n",
       "      <td>False</td>\n",
       "      <td>False</td>\n",
       "    </tr>\n",
       "  </tbody>\n",
       "</table>\n",
       "</div>"
      ],
      "text/plain": [
       "   subscriber     income       age      var1 gender house_type  \\\n",
       "0           1  118239.80  74.32310  1.216512      f      OWNER   \n",
       "1           2  348760.40  45.86138  3.672188      f      OWNER   \n",
       "2           3   96111.34  43.18818  0.578956      f      OWNER   \n",
       "3           4   73818.17  43.32941 -0.129441      m     RENTAL   \n",
       "4           5   36469.51  34.87954 -0.127675      m     RENTAL   \n",
       "\n",
       "        lastVisit product02  house_type_bin  gender_bin        lastVisit_dt  \\\n",
       "0   1/1/2012 2:09       Nee             1.0         0.0 2012-01-01 02:09:00   \n",
       "1  1/1/2012 14:03        Ja             1.0         0.0 2012-01-01 14:03:00   \n",
       "2  1/1/2012 23:58       Nee             1.0         0.0 2012-01-01 23:58:00   \n",
       "3   1/2/2012 3:51        Ja             0.0         1.0 2012-01-02 03:51:00   \n",
       "4  1/2/2012 13:50       Nee             0.0         1.0 2012-01-02 13:50:00   \n",
       "\n",
       "   lastVisit_year  lastVisit_month  lastVisit_days  product02_bin  \\\n",
       "0            2012                1               1              0   \n",
       "1            2012                1               1              1   \n",
       "2            2012                1               1              0   \n",
       "3            2012                1               2              1   \n",
       "4            2012                1               2              0   \n",
       "\n",
       "   income_imputed  age_imputed  var1_imputed  house_type_imputed  \\\n",
       "0           False        False         False               False   \n",
       "1           False        False         False               False   \n",
       "2           False        False         False               False   \n",
       "3           False        False         False               False   \n",
       "4           False        False         False               False   \n",
       "\n",
       "   house_type_bin_imputed  \n",
       "0                   False  \n",
       "1                   False  \n",
       "2                   False  \n",
       "3                   False  \n",
       "4                   False  "
      ]
     },
     "execution_count": 121,
     "metadata": {},
     "output_type": "execute_result"
    }
   ],
   "source": [
    "df_raw.head()"
   ]
  },
  {
   "cell_type": "markdown",
   "id": "c24ae279-17d4-4b08-b440-4003983ec595",
   "metadata": {},
   "source": [
    "Thoughts:\n",
    "- Logistic regression makes the best start for binary classification problems\n",
    "- Decision trees or Random forest would make a good second/third option\n",
    "- Should try Gradient Boosting algorithm as well"
   ]
  },
  {
   "cell_type": "code",
   "execution_count": 88,
   "id": "3586c928-3b0e-42ce-bdb9-b5a4024b50b7",
   "metadata": {},
   "outputs": [],
   "source": [
    "features = ['income', 'income_imputed', 'age', 'age_imputed', 'var1', 'var1_imputed', 'house_type_bin_imputed', 'lastVisit_year', \"lastVisit_days\", \"product02_bin\"]\n",
    "features_no_impute = ['income', 'age', 'var1', 'lastVisit_year', \"lastVisit_days\", \"product02_bin\"]"
   ]
  },
  {
   "cell_type": "code",
   "execution_count": 99,
   "id": "f664a3c9-30a0-4ec5-90c7-b3461c652078",
   "metadata": {},
   "outputs": [],
   "source": [
    "df = df_raw[features]\n",
    "df_no_impute = df_raw[features_no_impute]"
   ]
  },
  {
   "cell_type": "markdown",
   "id": "51d28750-8e45-4979-9843-fed934c48765",
   "metadata": {},
   "source": [
    "Train test split"
   ]
  },
  {
   "cell_type": "code",
   "execution_count": 127,
   "id": "b5d5c048-e706-4ae3-bc97-3c4fb13d4580",
   "metadata": {},
   "outputs": [],
   "source": [
    "def split_df(df):\n",
    "    X = df.drop('product02_bin', axis=1)\n",
    "    y = df['product02_bin']\n",
    "    \n",
    "    X_train, X_test, y_train, y_test = train_test_split(X, y, test_size=test_size, random_state=seed)\n",
    "    return X_train, X_test, y_train, y_test, X, y\n",
    "\n",
    "X_train, X_test, y_train, y_test, X, y = split_df(df)\n",
    "X_train_no_impute, X_test_no_impute, y_train_no_impute, y_test_no_impute, X_no_impute, y_no_impute = split_df(df_no_impute)\n"
   ]
  },
  {
   "cell_type": "code",
   "execution_count": 128,
   "id": "bb310a8b-bebe-4abb-9355-cf64233244d2",
   "metadata": {},
   "outputs": [],
   "source": [
    "X100 = shap.utils.sample(X, 100)\n",
    "X100_no_impute = shap.utils.sample(X_no_impute, 100)"
   ]
  },
  {
   "cell_type": "markdown",
   "id": "6875bb2b-dcfb-4d67-8382-4a4e9b3b1273",
   "metadata": {},
   "source": [
    "### scoring"
   ]
  },
  {
   "cell_type": "code",
   "execution_count": 102,
   "id": "0236f180-e785-418f-8cfe-b4deba735ef1",
   "metadata": {},
   "outputs": [],
   "source": [
    "def scoring(y_test, y_pred):\n",
    "    accuracy = accuracy_score(y_test, y_pred)\n",
    "    precision = precision_score(y_test, y_pred)\n",
    "    recall = recall_score(y_test, y_pred)\n",
    "    f1 = f1_score(y_test, y_pred)\n",
    "    \n",
    "    # True pos + True negatives / all predictions\n",
    "    print(f'Accuracy: {accuracy}')\n",
    "    \n",
    "    # True pos of all positive predicted\n",
    "    print(f'Precision: {precision}')\n",
    "    \n",
    "    # True pos of true pos + false neg\n",
    "    print(f'Recall: {recall}')\n",
    "    \n",
    "    # weighted accuracy and precision\n",
    "    print(f'F1-Score: {f1}')\n",
    "    "
   ]
  },
  {
   "cell_type": "markdown",
   "id": "6286c3f7-02b2-4ffc-95cd-0cf8916139ee",
   "metadata": {},
   "source": [
    "### Model"
   ]
  },
  {
   "cell_type": "markdown",
   "id": "8f2a6350-56e0-4f27-9a49-a83fe894f40d",
   "metadata": {},
   "source": [
    "#### Logistic"
   ]
  },
  {
   "cell_type": "code",
   "execution_count": 130,
   "id": "afdd5a2b-5b6d-4153-bc0e-864b171ad86f",
   "metadata": {},
   "outputs": [
    {
     "name": "stdout",
     "output_type": "stream",
     "text": [
      "Accuracy: 0.6473839351510685\n",
      "Precision: 0.6136363636363636\n",
      "Recall: 0.38675022381378693\n",
      "F1-Score: 0.47446457990115326\n",
      "\n",
      "\n",
      "Accuracy: 0.6473839351510685\n",
      "Precision: 0.6136363636363636\n",
      "Recall: 0.38675022381378693\n",
      "F1-Score: 0.47446457990115326\n"
     ]
    }
   ],
   "source": [
    "def log_pred(X_train, X_test, y_train, y_test):\n",
    "    # Initialize the logistic regression model\n",
    "    log_model = LogisticRegression(random_state=seed)\n",
    "    log_model.fit(X_train, y_train)\n",
    "    log_y_pred = log_model.predict(X_test)\n",
    "    \n",
    "    scoring(y_test, log_y_pred)\n",
    "    return log_model\n",
    "\n",
    "log_model = log_pred(X_train, X_test, y_train, y_test)\n",
    "print(\"\\n\")\n",
    "log_model = log_pred(X_train_no_impute, X_test_no_impute, y_train_no_impute, y_test_no_impute)\n"
   ]
  },
  {
   "cell_type": "code",
   "execution_count": null,
   "id": "5728014b-be8f-4445-9f89-f5575167cc28",
   "metadata": {},
   "outputs": [],
   "source": [
    "explainer = shap.explainers.Permutation(log_model.predict_proba, X_no_impute)\n",
    "shap_values  = explainer(X100_no_impute)"
   ]
  },
  {
   "cell_type": "code",
   "execution_count": 139,
   "id": "ac473c29-a7be-41e9-a8c2-9c00c56dd8a3",
   "metadata": {},
   "outputs": [
    {
     "data": {
      "text/plain": [
       "True"
      ]
     },
     "execution_count": 139,
     "metadata": {},
     "output_type": "execute_result"
    }
   ],
   "source": [
    "all(X_no_impute.columns == X100_no_impute.columns)"
   ]
  },
  {
   "cell_type": "code",
   "execution_count": 140,
   "id": "c3b964b3-0c85-4560-bbfa-7396ba2b4df6",
   "metadata": {},
   "outputs": [
    {
     "ename": "IndexError",
     "evalue": "list index out of range",
     "output_type": "error",
     "traceback": [
      "\u001b[1;31m---------------------------------------------------------------------------\u001b[0m",
      "\u001b[1;31mIndexError\u001b[0m                                Traceback (most recent call last)",
      "Cell \u001b[1;32mIn[140], line 1\u001b[0m\n\u001b[1;32m----> 1\u001b[0m \u001b[43mshap\u001b[49m\u001b[38;5;241;43m.\u001b[39;49m\u001b[43mplots\u001b[49m\u001b[38;5;241;43m.\u001b[39;49m\u001b[43mbar\u001b[49m\u001b[43m(\u001b[49m\u001b[43mshap_values\u001b[49m\u001b[43m)\u001b[49m\n",
      "File \u001b[1;32m~\\Miniconda3\\envs\\telecom\\Lib\\site-packages\\shap\\plots\\_bar.py:186\u001b[0m, in \u001b[0;36mbar\u001b[1;34m(shap_values, max_display, order, clustering, clustering_cutoff, merge_cohorts, show_data, show)\u001b[0m\n\u001b[0;32m    184\u001b[0m \u001b[38;5;28;01mfor\u001b[39;00m pos,inds \u001b[38;5;129;01min\u001b[39;00m \u001b[38;5;28menumerate\u001b[39m(orig_inds):\n\u001b[0;32m    185\u001b[0m     \u001b[38;5;28;01mif\u001b[39;00m \u001b[38;5;28mlen\u001b[39m(inds) \u001b[38;5;241m==\u001b[39m \u001b[38;5;241m1\u001b[39m:\n\u001b[1;32m--> 186\u001b[0m         feature_names_new\u001b[38;5;241m.\u001b[39mappend(\u001b[43mfeature_names\u001b[49m\u001b[43m[\u001b[49m\u001b[43minds\u001b[49m\u001b[43m[\u001b[49m\u001b[38;5;241;43m0\u001b[39;49m\u001b[43m]\u001b[49m\u001b[43m]\u001b[49m)\n\u001b[0;32m    187\u001b[0m     \u001b[38;5;28;01melse\u001b[39;00m:\n\u001b[0;32m    188\u001b[0m         full_print \u001b[38;5;241m=\u001b[39m \u001b[38;5;124m\"\u001b[39m\u001b[38;5;124m + \u001b[39m\u001b[38;5;124m\"\u001b[39m\u001b[38;5;241m.\u001b[39mjoin([feature_names[i] \u001b[38;5;28;01mfor\u001b[39;00m i \u001b[38;5;129;01min\u001b[39;00m inds])\n",
      "\u001b[1;31mIndexError\u001b[0m: list index out of range"
     ]
    }
   ],
   "source": [
    "shap.plots.bar(shap_values)"
   ]
  },
  {
   "cell_type": "code",
   "execution_count": 75,
   "id": "9661625b-ea91-4608-b7dc-de7c91d6315d",
   "metadata": {},
   "outputs": [
    {
     "ename": "AttributeError",
     "evalue": "'ExactExplainer' object has no attribute 'shap_values'",
     "output_type": "error",
     "traceback": [
      "\u001b[1;31m---------------------------------------------------------------------------\u001b[0m",
      "\u001b[1;31mAttributeError\u001b[0m                            Traceback (most recent call last)",
      "Cell \u001b[1;32mIn[75], line 2\u001b[0m\n\u001b[0;32m      1\u001b[0m explainer \u001b[38;5;241m=\u001b[39m shap\u001b[38;5;241m.\u001b[39mExplainer(model\u001b[38;5;241m.\u001b[39mpredict, X)\n\u001b[1;32m----> 2\u001b[0m shap_values \u001b[38;5;241m=\u001b[39m \u001b[43mexplainer\u001b[49m\u001b[38;5;241;43m.\u001b[39;49m\u001b[43mshap_values\u001b[49m(X)\n",
      "\u001b[1;31mAttributeError\u001b[0m: 'ExactExplainer' object has no attribute 'shap_values'"
     ]
    }
   ],
   "source": [
    "explainer = shap.Explainer(model.predict, X)\n",
    "shap_values = explainer.shap_values(X)"
   ]
  },
  {
   "cell_type": "markdown",
   "id": "20b9bee8-e590-429e-a0a3-47250480712e",
   "metadata": {},
   "source": [
    "##### Decision Tree"
   ]
  },
  {
   "cell_type": "code",
   "execution_count": 58,
   "id": "a07dc908-1187-41f1-8617-7f32ebf404ee",
   "metadata": {},
   "outputs": [
    {
     "name": "stdout",
     "output_type": "stream",
     "text": [
      "Accuracy: 0.6168017686072218\n",
      "Precision: 0.5325443786982249\n",
      "Recall: 0.5640107430617726\n",
      "F1-Score: 0.5478260869565217\n"
     ]
    }
   ],
   "source": [
    "# Decision Tree\n",
    "dt_model = DecisionTreeClassifier(random_state=42)\n",
    "dt_model.fit(X_train, y_train)\n",
    "dt_y_pred = dt_model.predict(X_test)\n",
    "scoring(y_test, dt_y_pred)\n"
   ]
  },
  {
   "cell_type": "markdown",
   "id": "77851e8f-5afc-48e6-9bc3-6292f79ce5c9",
   "metadata": {},
   "source": [
    "##### Random forest"
   ]
  },
  {
   "cell_type": "code",
   "execution_count": 56,
   "id": "35784ab9-b9b3-4205-9398-a8f41e47be64",
   "metadata": {},
   "outputs": [
    {
     "name": "stdout",
     "output_type": "stream",
     "text": [
      "Accuracy: 0.681650700073692\n",
      "Precision: 0.6640726329442282\n",
      "Recall: 0.4583706356311549\n",
      "F1-Score: 0.5423728813559322\n"
     ]
    }
   ],
   "source": [
    "# Random Forest\n",
    "rf_model = RandomForestClassifier(random_state=seed)\n",
    "rf_model.fit(X_train, y_train)\n",
    "rf_y_pred = rf_model.predict(X_test)\n",
    "scoring(y_test, rf_y_pred)\n"
   ]
  },
  {
   "cell_type": "markdown",
   "id": "6e692762-9707-435a-8028-f0303fc7dec3",
   "metadata": {},
   "source": [
    "##### XGBoost"
   ]
  },
  {
   "cell_type": "code",
   "execution_count": 68,
   "id": "1599054c-4151-4587-974f-b97115e1920f",
   "metadata": {},
   "outputs": [
    {
     "name": "stdout",
     "output_type": "stream",
     "text": [
      "Accuracy: 0.6735445836403832\n",
      "Precision: 0.6431226765799256\n",
      "Recall: 0.4646374216651746\n",
      "F1-Score: 0.5395010395010394\n"
     ]
    }
   ],
   "source": [
    "xgb_model = XGBClassifier(random_state=42)\n",
    "xgb_model.fit(X_train, y_train)\n",
    "xgb_y_pred = xgb_model.predict(X_test)\n",
    "\n",
    "scoring(y_test, xgb_y_pred)"
   ]
  },
  {
   "cell_type": "code",
   "execution_count": 145,
   "id": "903e773b-fadb-460d-9f94-5c4543957c8d",
   "metadata": {},
   "outputs": [
    {
     "data": {
      "text/plain": [
       "<Axes: title={'center': 'Feature importance'}, xlabel='F score', ylabel='Features'>"
      ]
     },
     "execution_count": 145,
     "metadata": {},
     "output_type": "execute_result"
    },
    {
     "data": {
      "image/png": "[encoded data removed]",
      "text/plain": [
       "<Figure size 640x480 with 1 Axes>"
      ]
     },
     "metadata": {},
     "output_type": "display_data"
    }
   ],
   "source": [
    "plot_importance(xgb_model)"
   ]
  },
  {
   "cell_type": "code",
   "execution_count": 146,
   "id": "05a31fcf-becf-479e-9605-b56be8ef15c0",
   "metadata": {},
   "outputs": [
    {
     "name": "stdout",
     "output_type": "stream",
     "text": [
      "Accuracy: 0.6746499631540163\n",
      "Precision: 0.6437346437346437\n",
      "Recall: 0.4691136974037601\n",
      "F1-Score: 0.5427239772138789\n"
     ]
    },
    {
     "data": {
      "text/plain": [
       "<Axes: title={'center': 'Feature importance'}, xlabel='F score', ylabel='Features'>"
      ]
     },
     "execution_count": 146,
     "metadata": {},
     "output_type": "execute_result"
    },
    {
     "data": {
      "image/png": "[encoded data removed]",
      "text/plain": [
       "<Figure size 640x480 with 1 Axes>"
      ]
     },
     "metadata": {},
     "output_type": "display_data"
    }
   ],
   "source": [
    "xgb_model = XGBClassifier(random_state=42)\n",
    "xgb_model.fit(X_train_no_impute, y_train_no_impute)\n",
    "xgb_y_pred = xgb_model.predict(X_test_no_impute)\n",
    "\n",
    "scoring(y_test_no_impute, xgb_y_pred)\n",
    "plot_importance(xgb_model)\n"
   ]
  },
  {
   "cell_type": "markdown",
   "id": "de4df7ce-e008-4472-a2b7-6c8e1348f605",
   "metadata": {},
   "source": []
  },
  {
   "cell_type": "code",
   "execution_count": 147,
   "id": "1c0184ea-3531-40c1-a443-0dbfd7addce8",
   "metadata": {},
   "outputs": [],
   "source": [
    "df_investigate = X_test_no_impute.copy(deep=True)\n",
    "df_investigate[\"target\"] = y_test_no_impute \n",
    "df_investigate[\"target_predicted\"] = xgb_y_pred"
   ]
  },
  {
   "cell_type": "code",
   "execution_count": 150,
   "id": "7410ca70-9bd3-4669-947a-78eb1d657923",
   "metadata": {},
   "outputs": [],
   "source": [
    "df_investigate_wrong_pred = df_investigate[df_investigate.target!=df_investigate.target_predicted]"
   ]
  },
  {
   "cell_type": "code",
   "execution_count": 151,
   "id": "e2ed3fd9-1d6e-41bd-a5f1-43ca6959678c",
   "metadata": {},
   "outputs": [
    {
     "data": {
      "text/html": [
       "<div>\n",
       "<style scoped>\n",
       "    .dataframe tbody tr th:only-of-type {\n",
       "        vertical-align: middle;\n",
       "    }\n",
       "\n",
       "    .dataframe tbody tr th {\n",
       "        vertical-align: top;\n",
       "    }\n",
       "\n",
       "    .dataframe thead th {\n",
       "        text-align: right;\n",
       "    }\n",
       "</style>\n",
       "<table border=\"1\" class=\"dataframe\">\n",
       "  <thead>\n",
       "    <tr style=\"text-align: right;\">\n",
       "      <th></th>\n",
       "      <th>income</th>\n",
       "      <th>age</th>\n",
       "      <th>var1</th>\n",
       "      <th>lastVisit_year</th>\n",
       "      <th>lastVisit_days</th>\n",
       "      <th>target</th>\n",
       "      <th>target_predicted</th>\n",
       "    </tr>\n",
       "  </thead>\n",
       "  <tbody>\n",
       "    <tr>\n",
       "      <th>94</th>\n",
       "      <td>6502.621529</td>\n",
       "      <td>19.237016</td>\n",
       "      <td>1.518227</td>\n",
       "      <td>2012</td>\n",
       "      <td>19</td>\n",
       "      <td>0</td>\n",
       "      <td>1</td>\n",
       "    </tr>\n",
       "    <tr>\n",
       "      <th>4910</th>\n",
       "      <td>6180.768357</td>\n",
       "      <td>26.357011</td>\n",
       "      <td>-0.207179</td>\n",
       "      <td>2014</td>\n",
       "      <td>926</td>\n",
       "      <td>1</td>\n",
       "      <td>0</td>\n",
       "    </tr>\n",
       "    <tr>\n",
       "      <th>881</th>\n",
       "      <td>5021.752000</td>\n",
       "      <td>24.352310</td>\n",
       "      <td>-0.093795</td>\n",
       "      <td>2012</td>\n",
       "      <td>160</td>\n",
       "      <td>1</td>\n",
       "      <td>0</td>\n",
       "    </tr>\n",
       "    <tr>\n",
       "      <th>3722</th>\n",
       "      <td>121481.556200</td>\n",
       "      <td>56.231965</td>\n",
       "      <td>-0.576665</td>\n",
       "      <td>2013</td>\n",
       "      <td>709</td>\n",
       "      <td>1</td>\n",
       "      <td>0</td>\n",
       "    </tr>\n",
       "    <tr>\n",
       "      <th>2573</th>\n",
       "      <td>33005.348680</td>\n",
       "      <td>21.215166</td>\n",
       "      <td>1.842484</td>\n",
       "      <td>2013</td>\n",
       "      <td>484</td>\n",
       "      <td>1</td>\n",
       "      <td>0</td>\n",
       "    </tr>\n",
       "  </tbody>\n",
       "</table>\n",
       "</div>"
      ],
      "text/plain": [
       "             income        age      var1  lastVisit_year  lastVisit_days  \\\n",
       "94      6502.621529  19.237016  1.518227            2012              19   \n",
       "4910    6180.768357  26.357011 -0.207179            2014             926   \n",
       "881     5021.752000  24.352310 -0.093795            2012             160   \n",
       "3722  121481.556200  56.231965 -0.576665            2013             709   \n",
       "2573   33005.348680  21.215166  1.842484            2013             484   \n",
       "\n",
       "      target  target_predicted  \n",
       "94         0                 1  \n",
       "4910       1                 0  \n",
       "881        1                 0  \n",
       "3722       1                 0  \n",
       "2573       1                 0  "
      ]
     },
     "execution_count": 151,
     "metadata": {},
     "output_type": "execute_result"
    }
   ],
   "source": [
    "df_investigate_wrong_pred.head()"
   ]
  },
  {
   "cell_type": "code",
   "execution_count": 154,
   "id": "25013e5b-4914-4b55-b0d0-c22ec097811a",
   "metadata": {},
   "outputs": [
    {
     "data": {
      "text/plain": [
       "(883, 7)"
      ]
     },
     "execution_count": 154,
     "metadata": {},
     "output_type": "execute_result"
    }
   ],
   "source": [
    "df_investigate_wrong_pred.shape"
   ]
  },
  {
   "cell_type": "code",
   "execution_count": 158,
   "id": "ea5e586a-a051-414e-861b-04fecfdbd12f",
   "metadata": {},
   "outputs": [
    {
     "data": {
      "image/png": "[encoded data removed]",
      "text/plain": [
       "<Figure size 1400x900 with 9 Axes>"
      ]
     },
     "metadata": {},
     "output_type": "display_data"
    }
   ],
   "source": [
    "df_investigate_wrong_pred.hist(bins=50, figsize=(14,9));"
   ]
  },
  {
   "cell_type": "markdown",
   "id": "4cf6c270-43f4-4df7-bea9-a3d29c20bfc1",
   "metadata": {},
   "source": [
    "### preliminary conclusions/thoughts\n",
    "- 0 is more predicted than it actually is, might need to do resampling or another balancing method\n",
    "- More thorough investigation in why the predictions are false.\n",
    "- Remove lastVisit_year\n",
    "- Low incomes are indeed badly predicted, might need to use a lowerbound"
   ]
  },
  {
   "cell_type": "code",
   "execution_count": null,
   "id": "d7d8e466-aa95-4f6a-a6c9-2bc19ae87fd1",
   "metadata": {},
   "outputs": [],
   "source": []
  }
 ],
 "metadata": {
  "kernelspec": {
   "display_name": "Python 3 (ipykernel)",
   "language": "python",
   "name": "python3"
  },
  "language_info": {
   "codemirror_mode": {
    "name": "ipython",
    "version": 3
   },
   "file_extension": ".py",
   "mimetype": "text/x-python",
   "name": "python",
   "nbconvert_exporter": "python",
   "pygments_lexer": "ipython3",
   "version": "3.11.7"
  }
 },
 "nbformat": 4,
 "nbformat_minor": 5
}
