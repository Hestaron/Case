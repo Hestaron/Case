{
 "cells": [
  {
   "cell_type": "markdown",
   "id": "1434799a-6b17-4fae-a930-b7ff0f3677d0",
   "metadata": {},
   "source": [
    "# Data Cleaning\n",
    "\n",
    "Argumentation and steps are outlined in exploration. So we do them quickly here"
   ]
  },
  {
   "cell_type": "code",
   "execution_count": 1,
   "id": "74f1c2a4-0fe2-43a7-a240-642f0c49395c",
   "metadata": {},
   "outputs": [],
   "source": [
    "import pandas as pd\n",
    "import seaborn as sns\n",
    "import matplotlib.pyplot as plt"
   ]
  },
  {
   "cell_type": "code",
   "execution_count": 11,
   "id": "57e4beb1-52ce-4579-9199-fd5313c1291d",
   "metadata": {},
   "outputs": [],
   "source": [
    "df = pd.read_csv(\"../../data/raw/data-set.csv\")\n",
    "\n",
    "# Removes rows with 3,4 or 5 values missing from income, age, var1, gender, house_type\n",
    "df = df[df.isna().sum(axis=1)<=2]\n",
    "\n",
    "df['house_type_bin'] = df['house_type'].map({'OWNER': 1, 'RENTAL': 0})\n",
    "df['gender_bin'] = df['gender'].map({'m': 1, 'f': 0})\n",
    "\n",
    "format = \"%m/%d/%Y %H:%M\"\n",
    "df['lastVisit_dt'] = pd.to_datetime(df['lastVisit'], format=format)\n",
    "df['lastVisit_year'] = df['lastVisit_dt'].dt.year\n",
    "df['lastVisit_month'] = df['lastVisit_dt'].dt.month\n",
    "\n",
    "min_date = df['lastVisit_dt'].min()\n",
    "df['lastVisit_days'] = (df['lastVisit_dt'] - min_date).dt.days + 1\n",
    "\n",
    "df['product02_bin'] = df['product02'].map({'Ja': 1, 'Nee': 0})\n"
   ]
  },
  {
   "cell_type": "markdown",
   "id": "c524b271-6bc1-4b7a-b94d-bc8404c8edb7",
   "metadata": {},
   "source": [
    "To keep in mind:\n",
    "- first feature experimation: house_type, last_Visit, var1, income\n",
    "- Resampling needed?\n",
    "- What would be the best format for lastVisit?\n",
    "- Cap the lowest income?"
   ]
  },
  {
   "cell_type": "code",
   "execution_count": 13,
   "id": "2f7cffbb-db7a-4564-a29d-8745c89ef38e",
   "metadata": {},
   "outputs": [
    {
     "data": {
      "text/plain": [
       "subscriber           0\n",
       "income             226\n",
       "age                242\n",
       "var1               243\n",
       "gender             246\n",
       "house_type         234\n",
       "lastVisit            0\n",
       "product02            0\n",
       "house_type_bin     234\n",
       "gender_bin         246\n",
       "lastVisit_dt         0\n",
       "lastVisit_year       0\n",
       "lastVisit_month      0\n",
       "lastVisit_days       0\n",
       "product02_bin        0\n",
       "dtype: int64"
      ]
     },
     "execution_count": 13,
     "metadata": {},
     "output_type": "execute_result"
    }
   ],
   "source": [
    "df.isna().sum()"
   ]
  },
  {
   "cell_type": "markdown",
   "id": "fbb95eb6-bc0f-4336-bf57-13ffba272d5a",
   "metadata": {},
   "source": [
    "## Nan handling\n"
   ]
  },
  {
   "cell_type": "code",
   "execution_count": 14,
   "id": "08e4aacd-29f5-4ed3-9534-bdd526eae44c",
   "metadata": {},
   "outputs": [],
   "source": [
    "# income, age and var1 seem to be best handled by mean. It's 250/9000 rows so shouldn't impact too much. Deeper investigation later could try other imputations\n",
    "# For house_type the mode seems better to keep it binary\n",
    "# Let's add columns as well to see if there have been imputations. Easier to debug later on"
   ]
  },
  {
   "cell_type": "code",
   "execution_count": 23,
   "id": "6584e508-fdd7-4d54-bf28-3629232a771c",
   "metadata": {},
   "outputs": [],
   "source": [
    "for c in ['income', 'age', 'var1']:\n",
    "    df[f'{c}_imputed'] = df[c].isna()\n",
    "    df[c] = df[c].fillna(df[c].mean())"
   ]
  },
  {
   "cell_type": "code",
   "execution_count": 28,
   "id": "6e05305f-3fc3-4f19-82d7-0cb532d9c128",
   "metadata": {},
   "outputs": [],
   "source": [
    "c = 'house_type_bin'\n",
    "df[f'{c}_imputed'] = df[c].isna()\n",
    "df[c] = df[c].fillna(df[c].mode())"
   ]
  },
  {
   "cell_type": "code",
   "execution_count": 29,
   "id": "b34afc50-92f1-47b7-b9ad-070449545d15",
   "metadata": {},
   "outputs": [
    {
     "data": {
      "text/plain": [
       "subscriber                  0\n",
       "income                      0\n",
       "age                         0\n",
       "var1                        0\n",
       "gender                    246\n",
       "house_type                234\n",
       "lastVisit                   0\n",
       "product02                   0\n",
       "house_type_bin            234\n",
       "gender_bin                246\n",
       "lastVisit_dt                0\n",
       "lastVisit_year              0\n",
       "lastVisit_month             0\n",
       "lastVisit_days              0\n",
       "product02_bin               0\n",
       "income_imputed              0\n",
       "age_imputed                 0\n",
       "var1_imputed                0\n",
       "house_type_imputed          0\n",
       "house_type_bin_imputed      0\n",
       "dtype: int64"
      ]
     },
     "execution_count": 29,
     "metadata": {},
     "output_type": "execute_result"
    }
   ],
   "source": [
    "df.isna().sum()"
   ]
  },
  {
   "cell_type": "code",
   "execution_count": 30,
   "id": "75c57582-9df7-47f8-bf64-319d43e4abde",
   "metadata": {},
   "outputs": [],
   "source": [
    "df.to_feather(\"../../data/processed/data-set.ftr\")"
   ]
  },
  {
   "cell_type": "code",
   "execution_count": null,
   "id": "525e2f20-cd21-433d-a7f8-eade3dac57ec",
   "metadata": {},
   "outputs": [],
   "source": []
  }
 ],
 "metadata": {
  "kernelspec": {
   "display_name": "Python 3 (ipykernel)",
   "language": "python",
   "name": "python3"
  },
  "language_info": {
   "codemirror_mode": {
    "name": "ipython",
    "version": 3
   },
   "file_extension": ".py",
   "mimetype": "text/x-python",
   "name": "python",
   "nbconvert_exporter": "python",
   "pygments_lexer": "ipython3",
   "version": "3.11.7"
  }
 },
 "nbformat": 4,
 "nbformat_minor": 5
}
