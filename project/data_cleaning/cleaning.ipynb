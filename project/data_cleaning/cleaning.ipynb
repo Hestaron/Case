{
 "cells": [
  {
   "cell_type": "markdown",
   "id": "1434799a-6b17-4fae-a930-b7ff0f3677d0",
   "metadata": {},
   "source": [
    "# Data Cleaning\n",
    "\n",
    "Argumentation and steps are outlined in exploration. So we do them quickly here"
   ]
  },
  {
   "cell_type": "code",
   "execution_count": 1,
   "id": "74f1c2a4-0fe2-43a7-a240-642f0c49395c",
   "metadata": {},
   "outputs": [],
   "source": [
    "import pandas as pd\n",
    "import seaborn as sns\n",
    "import matplotlib.pyplot as plt"
   ]
  },
  {
   "cell_type": "code",
   "execution_count": 3,
   "id": "57e4beb1-52ce-4579-9199-fd5313c1291d",
   "metadata": {},
   "outputs": [],
   "source": [
    "df = pd.read_csv(\"../../data/raw/data-set.csv\")\n",
    "\n",
    "# Removes rows with 3,4 or 5 values missing from income, age, var1, gender, house_type\n",
    "df = df[df.isna().sum(axis=1)<=2]\n",
    "\n",
    "df['house_type_bin'] = df['house_type'].map({'OWNER': 1, 'RENTAL': 0})\n",
    "df['gender_bin'] = df['gender'].map({'m': 1, 'f': 0})\n",
    "\n",
    "format = \"%m/%d/%Y %H:%M\"\n",
    "df['lastVisit_dt'] = pd.to_datetime(df['lastVisit'], format=format)\n",
    "df['lastVisit_year'] = df['lastVisit_dt'].dt.year\n",
    "df['lastVisit_month'] = df['lastVisit_dt'].dt.month\n",
    "\n",
    "df['product02_bin'] = df['product02'].map({'Ja': 1, 'Nee': 0})\n"
   ]
  },
  {
   "cell_type": "markdown",
   "id": "c524b271-6bc1-4b7a-b94d-bc8404c8edb7",
   "metadata": {},
   "source": [
    "To keep in mind:\n",
    "- first feature experimation: house_type, last_Visit, var1, income\n",
    "- Resampling needed?\n",
    "- What would be the best format for lastVisit?\n",
    "- Cap the lowest income?"
   ]
  },
  {
   "cell_type": "code",
   "execution_count": 5,
   "id": "75c57582-9df7-47f8-bf64-319d43e4abde",
   "metadata": {},
   "outputs": [],
   "source": [
    "df.to_feather(\"../../data/processed/data-set.ftr\")"
   ]
  },
  {
   "cell_type": "code",
   "execution_count": null,
   "id": "525e2f20-cd21-433d-a7f8-eade3dac57ec",
   "metadata": {},
   "outputs": [],
   "source": []
  }
 ],
 "metadata": {
  "kernelspec": {
   "display_name": "Python 3 (ipykernel)",
   "language": "python",
   "name": "python3"
  },
  "language_info": {
   "codemirror_mode": {
    "name": "ipython",
    "version": 3
   },
   "file_extension": ".py",
   "mimetype": "text/x-python",
   "name": "python",
   "nbconvert_exporter": "python",
   "pygments_lexer": "ipython3",
   "version": "3.11.7"
  }
 },
 "nbformat": 4,
 "nbformat_minor": 5
}
