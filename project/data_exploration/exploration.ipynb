{
 "cells": [
  {
   "cell_type": "markdown",
   "id": "a588287b-4da6-46bf-b482-307b8dad2e7f",
   "metadata": {},
   "source": [
    "# Exploration"
   ]
  },
  {
   "cell_type": "code",
   "execution_count": 1,
   "id": "ffb528c0-9812-4a4c-b990-17575da559ec",
   "metadata": {},
   "outputs": [],
   "source": [
    "import pandas as pd\n",
    "import seaborn as sns\n",
    "import matplotlib.pyplot as plt"
   ]
  },
  {
   "cell_type": "markdown",
   "id": "ebbb169d-5fae-4994-8b17-fad9547dd586",
   "metadata": {},
   "source": [
    "## Loading the dataset"
   ]
  },
  {
   "cell_type": "code",
   "execution_count": 49,
   "id": "80b63a0e-52c8-4bf4-9a6a-93181665cc3b",
   "metadata": {},
   "outputs": [],
   "source": [
    "df = pd.read_csv(\"../../data/raw/data-set.csv\")"
   ]
  },
  {
   "cell_type": "markdown",
   "id": "3cfce816-e4f5-4041-98be-73573b30a8e2",
   "metadata": {},
   "source": [
    "## General analysis"
   ]
  },
  {
   "cell_type": "code",
   "execution_count": 3,
   "id": "74a2f032-3a9c-4995-8e83-594498a2e942",
   "metadata": {},
   "outputs": [
    {
     "data": {
      "text/html": [
       "<div>\n",
       "<style scoped>\n",
       "    .dataframe tbody tr th:only-of-type {\n",
       "        vertical-align: middle;\n",
       "    }\n",
       "\n",
       "    .dataframe tbody tr th {\n",
       "        vertical-align: top;\n",
       "    }\n",
       "\n",
       "    .dataframe thead th {\n",
       "        text-align: right;\n",
       "    }\n",
       "</style>\n",
       "<table border=\"1\" class=\"dataframe\">\n",
       "  <thead>\n",
       "    <tr style=\"text-align: right;\">\n",
       "      <th></th>\n",
       "      <th>subscriber</th>\n",
       "      <th>income</th>\n",
       "      <th>age</th>\n",
       "      <th>var1</th>\n",
       "      <th>gender</th>\n",
       "      <th>house_type</th>\n",
       "      <th>lastVisit</th>\n",
       "      <th>product02</th>\n",
       "    </tr>\n",
       "  </thead>\n",
       "  <tbody>\n",
       "    <tr>\n",
       "      <th>0</th>\n",
       "      <td>1</td>\n",
       "      <td>118239.80</td>\n",
       "      <td>74.32310</td>\n",
       "      <td>1.216512</td>\n",
       "      <td>f</td>\n",
       "      <td>OWNER</td>\n",
       "      <td>1/1/2012 2:09</td>\n",
       "      <td>Nee</td>\n",
       "    </tr>\n",
       "    <tr>\n",
       "      <th>1</th>\n",
       "      <td>2</td>\n",
       "      <td>348760.40</td>\n",
       "      <td>45.86138</td>\n",
       "      <td>3.672188</td>\n",
       "      <td>f</td>\n",
       "      <td>OWNER</td>\n",
       "      <td>1/1/2012 14:03</td>\n",
       "      <td>Ja</td>\n",
       "    </tr>\n",
       "    <tr>\n",
       "      <th>2</th>\n",
       "      <td>3</td>\n",
       "      <td>96111.34</td>\n",
       "      <td>43.18818</td>\n",
       "      <td>0.578956</td>\n",
       "      <td>f</td>\n",
       "      <td>OWNER</td>\n",
       "      <td>1/1/2012 23:58</td>\n",
       "      <td>Nee</td>\n",
       "    </tr>\n",
       "    <tr>\n",
       "      <th>3</th>\n",
       "      <td>4</td>\n",
       "      <td>73818.17</td>\n",
       "      <td>43.32941</td>\n",
       "      <td>-0.129441</td>\n",
       "      <td>m</td>\n",
       "      <td>RENTAL</td>\n",
       "      <td>1/2/2012 3:51</td>\n",
       "      <td>Ja</td>\n",
       "    </tr>\n",
       "    <tr>\n",
       "      <th>4</th>\n",
       "      <td>5</td>\n",
       "      <td>36469.51</td>\n",
       "      <td>34.87954</td>\n",
       "      <td>-0.127675</td>\n",
       "      <td>m</td>\n",
       "      <td>RENTAL</td>\n",
       "      <td>1/2/2012 13:50</td>\n",
       "      <td>Nee</td>\n",
       "    </tr>\n",
       "  </tbody>\n",
       "</table>\n",
       "</div>"
      ],
      "text/plain": [
       "   subscriber     income       age      var1 gender house_type  \\\n",
       "0           1  118239.80  74.32310  1.216512      f      OWNER   \n",
       "1           2  348760.40  45.86138  3.672188      f      OWNER   \n",
       "2           3   96111.34  43.18818  0.578956      f      OWNER   \n",
       "3           4   73818.17  43.32941 -0.129441      m     RENTAL   \n",
       "4           5   36469.51  34.87954 -0.127675      m     RENTAL   \n",
       "\n",
       "        lastVisit product02  \n",
       "0   1/1/2012 2:09       Nee  \n",
       "1  1/1/2012 14:03        Ja  \n",
       "2  1/1/2012 23:58       Nee  \n",
       "3   1/2/2012 3:51        Ja  \n",
       "4  1/2/2012 13:50       Nee  "
      ]
     },
     "execution_count": 3,
     "metadata": {},
     "output_type": "execute_result"
    }
   ],
   "source": [
    "df.head()"
   ]
  },
  {
   "cell_type": "code",
   "execution_count": 4,
   "id": "3c3b592c-9e28-4b14-b49f-1c10f9bb1e35",
   "metadata": {},
   "outputs": [
    {
     "data": {
      "text/plain": [
       "(9524, 8)"
      ]
     },
     "execution_count": 4,
     "metadata": {},
     "output_type": "execute_result"
    }
   ],
   "source": [
    "df.shape"
   ]
  },
  {
   "cell_type": "code",
   "execution_count": 5,
   "id": "f590af6a-edf8-4ff2-82e1-e52a2bbab81a",
   "metadata": {},
   "outputs": [
    {
     "data": {
      "text/plain": [
       "subscriber      int64\n",
       "income        float64\n",
       "age           float64\n",
       "var1          float64\n",
       "gender         object\n",
       "house_type     object\n",
       "lastVisit      object\n",
       "product02      object\n",
       "dtype: object"
      ]
     },
     "execution_count": 5,
     "metadata": {},
     "output_type": "execute_result"
    }
   ],
   "source": [
    "df.dtypes"
   ]
  },
  {
   "cell_type": "code",
   "execution_count": 6,
   "id": "1bd25f57-6f91-407e-add5-a333b64d56b2",
   "metadata": {},
   "outputs": [
    {
     "data": {
      "text/html": [
       "<div>\n",
       "<style scoped>\n",
       "    .dataframe tbody tr th:only-of-type {\n",
       "        vertical-align: middle;\n",
       "    }\n",
       "\n",
       "    .dataframe tbody tr th {\n",
       "        vertical-align: top;\n",
       "    }\n",
       "\n",
       "    .dataframe thead th {\n",
       "        text-align: right;\n",
       "    }\n",
       "</style>\n",
       "<table border=\"1\" class=\"dataframe\">\n",
       "  <thead>\n",
       "    <tr style=\"text-align: right;\">\n",
       "      <th></th>\n",
       "      <th>subscriber</th>\n",
       "      <th>income</th>\n",
       "      <th>age</th>\n",
       "      <th>var1</th>\n",
       "    </tr>\n",
       "  </thead>\n",
       "  <tbody>\n",
       "    <tr>\n",
       "      <th>count</th>\n",
       "      <td>9524.000000</td>\n",
       "      <td>8966.000000</td>\n",
       "      <td>8975.000000</td>\n",
       "      <td>8952.000000</td>\n",
       "    </tr>\n",
       "    <tr>\n",
       "      <th>mean</th>\n",
       "      <td>4762.500000</td>\n",
       "      <td>122301.927841</td>\n",
       "      <td>49.043465</td>\n",
       "      <td>-0.105003</td>\n",
       "    </tr>\n",
       "    <tr>\n",
       "      <th>std</th>\n",
       "      <td>2749.486316</td>\n",
       "      <td>89007.507823</td>\n",
       "      <td>16.288764</td>\n",
       "      <td>1.480915</td>\n",
       "    </tr>\n",
       "    <tr>\n",
       "      <th>min</th>\n",
       "      <td>1.000000</td>\n",
       "      <td>985.849800</td>\n",
       "      <td>18.209650</td>\n",
       "      <td>-17.140300</td>\n",
       "    </tr>\n",
       "    <tr>\n",
       "      <th>25%</th>\n",
       "      <td>2381.750000</td>\n",
       "      <td>52975.740000</td>\n",
       "      <td>36.247210</td>\n",
       "      <td>-0.853022</td>\n",
       "    </tr>\n",
       "    <tr>\n",
       "      <th>50%</th>\n",
       "      <td>4762.500000</td>\n",
       "      <td>101522.700000</td>\n",
       "      <td>47.870090</td>\n",
       "      <td>-0.117858</td>\n",
       "    </tr>\n",
       "    <tr>\n",
       "      <th>75%</th>\n",
       "      <td>7143.250000</td>\n",
       "      <td>170981.975000</td>\n",
       "      <td>59.644960</td>\n",
       "      <td>0.679146</td>\n",
       "    </tr>\n",
       "    <tr>\n",
       "      <th>max</th>\n",
       "      <td>9524.000000</td>\n",
       "      <td>632975.000000</td>\n",
       "      <td>101.095400</td>\n",
       "      <td>13.600780</td>\n",
       "    </tr>\n",
       "  </tbody>\n",
       "</table>\n",
       "</div>"
      ],
      "text/plain": [
       "        subscriber         income          age         var1\n",
       "count  9524.000000    8966.000000  8975.000000  8952.000000\n",
       "mean   4762.500000  122301.927841    49.043465    -0.105003\n",
       "std    2749.486316   89007.507823    16.288764     1.480915\n",
       "min       1.000000     985.849800    18.209650   -17.140300\n",
       "25%    2381.750000   52975.740000    36.247210    -0.853022\n",
       "50%    4762.500000  101522.700000    47.870090    -0.117858\n",
       "75%    7143.250000  170981.975000    59.644960     0.679146\n",
       "max    9524.000000  632975.000000   101.095400    13.600780"
      ]
     },
     "execution_count": 6,
     "metadata": {},
     "output_type": "execute_result"
    }
   ],
   "source": [
    "df.describe()"
   ]
  },
  {
   "cell_type": "code",
   "execution_count": 7,
   "id": "65375943-7351-44fd-a3bd-12b16181bdf7",
   "metadata": {},
   "outputs": [
    {
     "name": "stdout",
     "output_type": "stream",
     "text": [
      "<class 'pandas.core.frame.DataFrame'>\n",
      "RangeIndex: 9524 entries, 0 to 9523\n",
      "Data columns (total 8 columns):\n",
      " #   Column      Non-Null Count  Dtype  \n",
      "---  ------      --------------  -----  \n",
      " 0   subscriber  9524 non-null   int64  \n",
      " 1   income      8966 non-null   float64\n",
      " 2   age         8975 non-null   float64\n",
      " 3   var1        8952 non-null   float64\n",
      " 4   gender      8969 non-null   object \n",
      " 5   house_type  8978 non-null   object \n",
      " 6   lastVisit   9524 non-null   object \n",
      " 7   product02   9524 non-null   object \n",
      "dtypes: float64(3), int64(1), object(4)\n",
      "memory usage: 595.4+ KB\n"
     ]
    }
   ],
   "source": [
    "df.info()"
   ]
  },
  {
   "cell_type": "code",
   "execution_count": 8,
   "id": "a96a5203-d52b-46e5-82be-aeb8b799da76",
   "metadata": {},
   "outputs": [
    {
     "data": {
      "text/plain": [
       "subscriber      0\n",
       "income        558\n",
       "age           549\n",
       "var1          572\n",
       "gender        555\n",
       "house_type    546\n",
       "lastVisit       0\n",
       "product02       0\n",
       "dtype: int64"
      ]
     },
     "execution_count": 8,
     "metadata": {},
     "output_type": "execute_result"
    }
   ],
   "source": [
    "df.isna().sum()"
   ]
  },
  {
   "cell_type": "code",
   "execution_count": 9,
   "id": "3e69ae01-4727-45ae-9fab-340042717580",
   "metadata": {},
   "outputs": [
    {
     "data": {
      "text/plain": [
       "Index(['subscriber', 'income', 'age', 'var1', 'gender', 'house_type',\n",
       "       'lastVisit', 'product02'],\n",
       "      dtype='object')"
      ]
     },
     "execution_count": 9,
     "metadata": {},
     "output_type": "execute_result"
    }
   ],
   "source": [
    "df.columns"
   ]
  },
  {
   "cell_type": "code",
   "execution_count": 10,
   "id": "632a9fde-b74d-466f-b0e9-0063c5c45f75",
   "metadata": {},
   "outputs": [
    {
     "data": {
      "image/png": "[encoded data removed]",
      "text/plain": [
       "<Figure size 640x480 with 2 Axes>"
      ]
     },
     "metadata": {},
     "output_type": "display_data"
    }
   ],
   "source": [
    "correlation_matrix = df[['subscriber', 'income', 'age', 'var1']].corr()\n",
    "\n",
    "sns.heatmap(correlation_matrix, annot=True, cmap='coolwarm')\n",
    "plt.show()"
   ]
  },
  {
   "cell_type": "markdown",
   "id": "ad47a765-77c2-4b34-b3f4-a691b04e8179",
   "metadata": {},
   "source": [
    "### Interesting points to pursue\n",
    "\n",
    "- income, age, var1, gender and house_type have around 550 values missing. Are those in the same rows? Is there some pattern between those?\n",
    "- There is a correlation between age, var1 and income. Subscriber seems to be totally unrelated which coincides with the assumption that it's an id column. Should add the string variables to."
   ]
  },
  {
   "cell_type": "markdown",
   "id": "d594f8ab-8fe3-44ea-99b0-511d180abff8",
   "metadata": {},
   "source": [
    "## Column analysis\n",
    "\n",
    "Let's assume that subscriber is an identity column"
   ]
  },
  {
   "cell_type": "code",
   "execution_count": 11,
   "id": "3940cf4a-278b-4c95-bbb2-248760f30885",
   "metadata": {},
   "outputs": [
    {
     "data": {
      "text/plain": [
       "Index(['subscriber', 'income', 'age', 'var1', 'gender', 'house_type',\n",
       "       'lastVisit', 'product02'],\n",
       "      dtype='object')"
      ]
     },
     "execution_count": 11,
     "metadata": {},
     "output_type": "execute_result"
    }
   ],
   "source": [
    "df.columns"
   ]
  },
  {
   "cell_type": "markdown",
   "id": "924b39c6-d6a1-4166-a98c-725b68372fcc",
   "metadata": {},
   "source": [
    "### Income"
   ]
  },
  {
   "cell_type": "code",
   "execution_count": 12,
   "id": "c7910e50-f450-4fe1-9d47-bd695e1be6a5",
   "metadata": {},
   "outputs": [
    {
     "data": {
      "text/plain": [
       "558"
      ]
     },
     "execution_count": 12,
     "metadata": {},
     "output_type": "execute_result"
    }
   ],
   "source": [
    "df[\"income\"].isna().sum()"
   ]
  },
  {
   "cell_type": "code",
   "execution_count": 13,
   "id": "8a344adf-fafa-4665-b6b9-43d5091a12c5",
   "metadata": {},
   "outputs": [
    {
     "data": {
      "image/png": "[encoded data removed]",
      "text/plain": [
       "<Figure size 640x480 with 1 Axes>"
      ]
     },
     "metadata": {},
     "output_type": "display_data"
    }
   ],
   "source": [
    "df[\"income\"].hist(bins=100);"
   ]
  },
  {
   "cell_type": "code",
   "execution_count": 14,
   "id": "5f6cdc48-96e1-41aa-9df3-c0b81c8ab6c8",
   "metadata": {},
   "outputs": [
    {
     "data": {
      "text/plain": [
       "'1/1/2012 14:03'"
      ]
     },
     "execution_count": 14,
     "metadata": {},
     "output_type": "execute_result"
    }
   ],
   "source": [
    "df[\"lastVisit\"].min()"
   ]
  },
  {
   "cell_type": "markdown",
   "id": "40a20594-a09e-430d-9133-e2cf9e74860b",
   "metadata": {},
   "source": [
    "Big difference between lowest 950 and highest 630_000. So maybe some income is per month and some is per year. Since the most is looks like it's yearly I assume that.\n",
    "Googling sets the bijstand income to 7500 yearly in 2011. So that looks a good minimum threshhold."
   ]
  },
  {
   "cell_type": "code",
   "execution_count": 15,
   "id": "dfe73dfd-56ec-44db-b8e6-c715591b744f",
   "metadata": {},
   "outputs": [
    {
     "data": {
      "text/plain": [
       "(96,)"
      ]
     },
     "execution_count": 15,
     "metadata": {},
     "output_type": "execute_result"
    }
   ],
   "source": [
    "df[df[\"income\"] < 7_500]['income'].shape"
   ]
  },
  {
   "cell_type": "markdown",
   "id": "873a250e-4e88-41cc-bf2f-74a342911f1b",
   "metadata": {},
   "source": [
    "## age"
   ]
  },
  {
   "cell_type": "code",
   "execution_count": 16,
   "id": "73faf252-8272-4273-8c84-5a989099d425",
   "metadata": {},
   "outputs": [
    {
     "data": {
      "text/plain": [
       "count    8975.000000\n",
       "mean       49.043465\n",
       "std        16.288764\n",
       "min        18.209650\n",
       "25%        36.247210\n",
       "50%        47.870090\n",
       "75%        59.644960\n",
       "max       101.095400\n",
       "Name: age, dtype: float64"
      ]
     },
     "execution_count": 16,
     "metadata": {},
     "output_type": "execute_result"
    }
   ],
   "source": [
    "df[\"age\"].describe()"
   ]
  },
  {
   "cell_type": "code",
   "execution_count": 17,
   "id": "86c87deb-8d6e-4e77-8105-11325a659d0c",
   "metadata": {},
   "outputs": [
    {
     "data": {
      "image/png": "[encoded data removed]",
      "text/plain": [
       "<Figure size 640x480 with 1 Axes>"
      ]
     },
     "metadata": {},
     "output_type": "display_data"
    }
   ],
   "source": [
    "df[\"age\"].hist(bins=150);"
   ]
  },
  {
   "cell_type": "markdown",
   "id": "7f2a401f-da58-46a5-8a64-28bb3761ba02",
   "metadata": {},
   "source": [
    "Minimum age 18 seems correct and 101 seems plausible as well. Distribution doesn't look weird either"
   ]
  },
  {
   "cell_type": "markdown",
   "id": "c65bca7f-d060-4d50-b6a2-83332c9cb92d",
   "metadata": {},
   "source": [
    "## var1"
   ]
  },
  {
   "cell_type": "code",
   "execution_count": 18,
   "id": "2ee7a382-d345-493c-ad14-16bca496dd30",
   "metadata": {},
   "outputs": [
    {
     "data": {
      "image/png": "[encoded data removed]",
      "text/plain": [
       "<Figure size 640x480 with 1 Axes>"
      ]
     },
     "metadata": {},
     "output_type": "display_data"
    }
   ],
   "source": [
    "df['var1'].hist(bins=50);"
   ]
  },
  {
   "cell_type": "markdown",
   "id": "5041ab5c-0413-41cd-b09f-9b8f52207d84",
   "metadata": {},
   "source": [
    "## house_type"
   ]
  },
  {
   "cell_type": "code",
   "execution_count": 19,
   "id": "bac9a2a6-7ed5-43ac-a03f-9d5be2db6987",
   "metadata": {},
   "outputs": [
    {
     "data": {
      "text/plain": [
       "house_type\n",
       "RENTAL    4920\n",
       "OWNER     4058\n",
       "NaN        546\n",
       "Name: count, dtype: int64"
      ]
     },
     "execution_count": 19,
     "metadata": {},
     "output_type": "execute_result"
    }
   ],
   "source": [
    "df['house_type'].value_counts(dropna=False)"
   ]
  },
  {
   "cell_type": "code",
   "execution_count": 32,
   "id": "7e4311b3-f5fd-4770-be3b-f88708f122de",
   "metadata": {},
   "outputs": [],
   "source": [
    "df['house_type_bin'] = df['house_type'].map({'OWNER': 1, 'RENTAL': 0})"
   ]
  },
  {
   "cell_type": "markdown",
   "id": "efffdc12-4ca7-493e-8199-b4fe8b3dde2e",
   "metadata": {},
   "source": [
    "## gender"
   ]
  },
  {
   "cell_type": "code",
   "execution_count": 20,
   "id": "bf42f6b5-5a24-4081-98d3-dad0c46535a6",
   "metadata": {},
   "outputs": [
    {
     "data": {
      "text/plain": [
       "gender\n",
       "m      5073\n",
       "f      3896\n",
       "NaN     555\n",
       "Name: count, dtype: int64"
      ]
     },
     "execution_count": 20,
     "metadata": {},
     "output_type": "execute_result"
    }
   ],
   "source": [
    "df['gender'].value_counts(dropna=False)"
   ]
  },
  {
   "cell_type": "code",
   "execution_count": 31,
   "id": "e6203a68-6faa-476c-a0a9-7d151640a3d8",
   "metadata": {},
   "outputs": [],
   "source": [
    "df['gender_bin'] = df['gender'].map({'m': 1, 'f': 0})"
   ]
  },
  {
   "cell_type": "markdown",
   "id": "71b7e578-7219-422a-88cc-e0586984195c",
   "metadata": {},
   "source": [
    "## lastVisit"
   ]
  },
  {
   "cell_type": "code",
   "execution_count": 21,
   "id": "0ee43555-0b66-4e2c-8de6-459307b677f9",
   "metadata": {},
   "outputs": [
    {
     "data": {
      "text/plain": [
       "'1/1/2012 14:03'"
      ]
     },
     "execution_count": 21,
     "metadata": {},
     "output_type": "execute_result"
    }
   ],
   "source": [
    "df['lastVisit'].min()\n"
   ]
  },
  {
   "cell_type": "code",
   "execution_count": 22,
   "id": "45709b42-d69c-4761-a01f-8726d5d44e63",
   "metadata": {},
   "outputs": [
    {
     "data": {
      "text/plain": [
       "'9/9/2016 5:12'"
      ]
     },
     "execution_count": 22,
     "metadata": {},
     "output_type": "execute_result"
    }
   ],
   "source": [
    "df['lastVisit'].max()"
   ]
  },
  {
   "cell_type": "code",
   "execution_count": 23,
   "id": "3a4b157e-cdc7-4210-8c99-889ae8e25a79",
   "metadata": {},
   "outputs": [
    {
     "data": {
      "text/plain": [
       "0          1/1/2012 2:09\n",
       "1         1/1/2012 14:03\n",
       "2         1/1/2012 23:58\n",
       "3          1/2/2012 3:51\n",
       "4         1/2/2012 13:50\n",
       "              ...       \n",
       "9519    11/21/2016 12:09\n",
       "9520    11/21/2016 17:58\n",
       "9521    11/21/2016 20:27\n",
       "9522    11/21/2016 22:42\n",
       "9523     11/22/2016 0:20\n",
       "Name: lastVisit, Length: 9524, dtype: object"
      ]
     },
     "execution_count": 23,
     "metadata": {},
     "output_type": "execute_result"
    }
   ],
   "source": [
    "df['lastVisit']"
   ]
  },
  {
   "cell_type": "code",
   "execution_count": 24,
   "id": "3e31a0bb-b01f-4534-80d8-daad669b25f7",
   "metadata": {},
   "outputs": [],
   "source": [
    "format = \"%m/%d/%Y %H:%M\""
   ]
  },
  {
   "cell_type": "code",
   "execution_count": 25,
   "id": "8bf067cd-bd29-4473-b337-0d47806191f6",
   "metadata": {},
   "outputs": [],
   "source": [
    "df['lastVisit_dt'] = pd.to_datetime(df['lastVisit'], format=format)"
   ]
  },
  {
   "cell_type": "code",
   "execution_count": 26,
   "id": "a84e70b3-3f7b-4880-9c73-ae205a22f713",
   "metadata": {},
   "outputs": [],
   "source": [
    "df['lastVisit_year'] = df['lastVisit_dt'].dt.year\n",
    "df['lastVisit_month'] = df['lastVisit_dt'].dt.month"
   ]
  },
  {
   "cell_type": "markdown",
   "id": "5b3dda22-51e2-477c-b3e0-4d8e054ebeb0",
   "metadata": {},
   "source": [
    "updated column to datetime format for easier analysis"
   ]
  },
  {
   "cell_type": "markdown",
   "id": "ec78bacd-4a8c-41f0-9f57-375198f9345b",
   "metadata": {},
   "source": [
    "## product02"
   ]
  },
  {
   "cell_type": "code",
   "execution_count": 27,
   "id": "a217070d-a22c-4379-b6d4-e799af2ce877",
   "metadata": {},
   "outputs": [
    {
     "data": {
      "text/plain": [
       "product02\n",
       "Nee    5618\n",
       "Ja     3906\n",
       "Name: count, dtype: int64"
      ]
     },
     "execution_count": 27,
     "metadata": {},
     "output_type": "execute_result"
    }
   ],
   "source": [
    "df['product02'].value_counts(dropna=False)"
   ]
  },
  {
   "cell_type": "markdown",
   "id": "ff429ff4-b348-459d-8657-888663627496",
   "metadata": {},
   "source": [
    "Slightly imbalanced, resampling needed?"
   ]
  },
  {
   "cell_type": "code",
   "execution_count": 28,
   "id": "b0234cdd-3f47-43cd-b575-b61bf9a3e799",
   "metadata": {},
   "outputs": [],
   "source": [
    "df['product02_bin'] = df['product02'].map({'Ja': 1, 'Nee': 0})"
   ]
  },
  {
   "cell_type": "code",
   "execution_count": 30,
   "id": "abe52a3d-e9f4-438a-a4d6-0135232f7926",
   "metadata": {},
   "outputs": [
    {
     "data": {
      "text/plain": [
       "product02_bin\n",
       "0    5618\n",
       "1    3906\n",
       "Name: count, dtype: int64"
      ]
     },
     "execution_count": 30,
     "metadata": {},
     "output_type": "execute_result"
    }
   ],
   "source": [
    "df['product02_bin'].value_counts(dropna=False)"
   ]
  },
  {
   "cell_type": "markdown",
   "id": "1e99e38e-e757-4f84-ae12-fc1f31725a0b",
   "metadata": {},
   "source": [
    "## Colinearity analysis"
   ]
  },
  {
   "cell_type": "code",
   "execution_count": 33,
   "id": "0555511e-22ed-4e7b-a5bb-90ed42839679",
   "metadata": {},
   "outputs": [
    {
     "data": {
      "text/html": [
       "<div>\n",
       "<style scoped>\n",
       "    .dataframe tbody tr th:only-of-type {\n",
       "        vertical-align: middle;\n",
       "    }\n",
       "\n",
       "    .dataframe tbody tr th {\n",
       "        vertical-align: top;\n",
       "    }\n",
       "\n",
       "    .dataframe thead th {\n",
       "        text-align: right;\n",
       "    }\n",
       "</style>\n",
       "<table border=\"1\" class=\"dataframe\">\n",
       "  <thead>\n",
       "    <tr style=\"text-align: right;\">\n",
       "      <th></th>\n",
       "      <th>subscriber</th>\n",
       "      <th>income</th>\n",
       "      <th>age</th>\n",
       "      <th>var1</th>\n",
       "      <th>gender</th>\n",
       "      <th>house_type</th>\n",
       "      <th>lastVisit</th>\n",
       "      <th>product02</th>\n",
       "      <th>lastVisit_dt</th>\n",
       "      <th>lastVisit_year</th>\n",
       "      <th>lastVisit_month</th>\n",
       "      <th>product02_bin</th>\n",
       "      <th>gender_bin</th>\n",
       "      <th>house_type_bin</th>\n",
       "    </tr>\n",
       "  </thead>\n",
       "  <tbody>\n",
       "    <tr>\n",
       "      <th>0</th>\n",
       "      <td>1</td>\n",
       "      <td>118239.80</td>\n",
       "      <td>74.32310</td>\n",
       "      <td>1.216512</td>\n",
       "      <td>f</td>\n",
       "      <td>OWNER</td>\n",
       "      <td>1/1/2012 2:09</td>\n",
       "      <td>Nee</td>\n",
       "      <td>2012-01-01 02:09:00</td>\n",
       "      <td>2012</td>\n",
       "      <td>1</td>\n",
       "      <td>0</td>\n",
       "      <td>0.0</td>\n",
       "      <td>1.0</td>\n",
       "    </tr>\n",
       "    <tr>\n",
       "      <th>1</th>\n",
       "      <td>2</td>\n",
       "      <td>348760.40</td>\n",
       "      <td>45.86138</td>\n",
       "      <td>3.672188</td>\n",
       "      <td>f</td>\n",
       "      <td>OWNER</td>\n",
       "      <td>1/1/2012 14:03</td>\n",
       "      <td>Ja</td>\n",
       "      <td>2012-01-01 14:03:00</td>\n",
       "      <td>2012</td>\n",
       "      <td>1</td>\n",
       "      <td>1</td>\n",
       "      <td>0.0</td>\n",
       "      <td>1.0</td>\n",
       "    </tr>\n",
       "    <tr>\n",
       "      <th>2</th>\n",
       "      <td>3</td>\n",
       "      <td>96111.34</td>\n",
       "      <td>43.18818</td>\n",
       "      <td>0.578956</td>\n",
       "      <td>f</td>\n",
       "      <td>OWNER</td>\n",
       "      <td>1/1/2012 23:58</td>\n",
       "      <td>Nee</td>\n",
       "      <td>2012-01-01 23:58:00</td>\n",
       "      <td>2012</td>\n",
       "      <td>1</td>\n",
       "      <td>0</td>\n",
       "      <td>0.0</td>\n",
       "      <td>1.0</td>\n",
       "    </tr>\n",
       "    <tr>\n",
       "      <th>3</th>\n",
       "      <td>4</td>\n",
       "      <td>73818.17</td>\n",
       "      <td>43.32941</td>\n",
       "      <td>-0.129441</td>\n",
       "      <td>m</td>\n",
       "      <td>RENTAL</td>\n",
       "      <td>1/2/2012 3:51</td>\n",
       "      <td>Ja</td>\n",
       "      <td>2012-01-02 03:51:00</td>\n",
       "      <td>2012</td>\n",
       "      <td>1</td>\n",
       "      <td>1</td>\n",
       "      <td>1.0</td>\n",
       "      <td>0.0</td>\n",
       "    </tr>\n",
       "    <tr>\n",
       "      <th>4</th>\n",
       "      <td>5</td>\n",
       "      <td>36469.51</td>\n",
       "      <td>34.87954</td>\n",
       "      <td>-0.127675</td>\n",
       "      <td>m</td>\n",
       "      <td>RENTAL</td>\n",
       "      <td>1/2/2012 13:50</td>\n",
       "      <td>Nee</td>\n",
       "      <td>2012-01-02 13:50:00</td>\n",
       "      <td>2012</td>\n",
       "      <td>1</td>\n",
       "      <td>0</td>\n",
       "      <td>1.0</td>\n",
       "      <td>0.0</td>\n",
       "    </tr>\n",
       "  </tbody>\n",
       "</table>\n",
       "</div>"
      ],
      "text/plain": [
       "   subscriber     income       age      var1 gender house_type  \\\n",
       "0           1  118239.80  74.32310  1.216512      f      OWNER   \n",
       "1           2  348760.40  45.86138  3.672188      f      OWNER   \n",
       "2           3   96111.34  43.18818  0.578956      f      OWNER   \n",
       "3           4   73818.17  43.32941 -0.129441      m     RENTAL   \n",
       "4           5   36469.51  34.87954 -0.127675      m     RENTAL   \n",
       "\n",
       "        lastVisit product02        lastVisit_dt  lastVisit_year  \\\n",
       "0   1/1/2012 2:09       Nee 2012-01-01 02:09:00            2012   \n",
       "1  1/1/2012 14:03        Ja 2012-01-01 14:03:00            2012   \n",
       "2  1/1/2012 23:58       Nee 2012-01-01 23:58:00            2012   \n",
       "3   1/2/2012 3:51        Ja 2012-01-02 03:51:00            2012   \n",
       "4  1/2/2012 13:50       Nee 2012-01-02 13:50:00            2012   \n",
       "\n",
       "   lastVisit_month  product02_bin  gender_bin  house_type_bin  \n",
       "0                1              0         0.0             1.0  \n",
       "1                1              1         0.0             1.0  \n",
       "2                1              0         0.0             1.0  \n",
       "3                1              1         1.0             0.0  \n",
       "4                1              0         1.0             0.0  "
      ]
     },
     "execution_count": 33,
     "metadata": {},
     "output_type": "execute_result"
    }
   ],
   "source": [
    "df.head()"
   ]
  },
  {
   "cell_type": "code",
   "execution_count": 37,
   "id": "9b8d67be-0f4c-4abb-8eef-0bf0a02f9241",
   "metadata": {},
   "outputs": [],
   "source": [
    "df_corr_numeric = df.corr(numeric_only=True)"
   ]
  },
  {
   "cell_type": "code",
   "execution_count": 42,
   "id": "59bd7578-e19b-459e-b94b-7f673d07bced",
   "metadata": {},
   "outputs": [
    {
     "data": {
      "text/plain": [
       "subscriber         0.179381\n",
       "income             0.181383\n",
       "age               -0.055964\n",
       "var1               0.141918\n",
       "lastVisit_year     0.165539\n",
       "lastVisit_month    0.072105\n",
       "product02_bin      1.000000\n",
       "gender_bin        -0.082059\n",
       "house_type_bin     0.139515\n",
       "Name: product02_bin, dtype: float64"
      ]
     },
     "execution_count": 42,
     "metadata": {},
     "output_type": "execute_result"
    }
   ],
   "source": [
    "df_corr_numeric['product02_bin']"
   ]
  },
  {
   "cell_type": "code",
   "execution_count": 38,
   "id": "a8d02372-8774-4188-9400-7384ac53e5f2",
   "metadata": {},
   "outputs": [
    {
     "data": {
      "image/png": "[encoded data removed]",
      "text/plain": [
       "<Figure size 640x480 with 2 Axes>"
      ]
     },
     "metadata": {},
     "output_type": "display_data"
    }
   ],
   "source": [
    "sns.heatmap(df_corr_numeric, annot=True, cmap='coolwarm')\n",
    "plt.show()"
   ]
  },
  {
   "cell_type": "markdown",
   "id": "68aace21-4c58-4467-9f8d-6773b46d56ba",
   "metadata": {},
   "source": [
    "Thoughts:\n",
    "- gender and income seem correlated, that's sad but probably not relevant\n",
    "- lastvisit_year and subscriber are highly correlated. Ofcourse, newer subscriptions get a higher id assuming it counts upwards\n",
    "- house_type, lastVisit_year, var1, income and subscriber Id all seem to have some predictive power for product02\n",
    "- Subscriber probably has predictive power since it sort of reflects the lastVisit column.\n",
    "\n",
    "Preliminary conclusions:\n",
    "So at first it seems that income, var1, lastVisit (in some form) and house_type have some predictive power. Gender seems less important although it relates to income and age quite well. But since I don't know what product02 is we should also be aware of certain ethical implications"
   ]
  },
  {
   "cell_type": "code",
   "execution_count": 52,
   "id": "aa3cb036-9a09-421d-a601-d9195a5b709a",
   "metadata": {},
   "outputs": [
    {
     "data": {
      "text/plain": [
       "0    8289\n",
       "2     434\n",
       "3     338\n",
       "1     323\n",
       "4     125\n",
       "5      15\n",
       "Name: count, dtype: int64"
      ]
     },
     "execution_count": 52,
     "metadata": {},
     "output_type": "execute_result"
    }
   ],
   "source": [
    "df.isna().sum(axis=1).value_counts()"
   ]
  },
  {
   "cell_type": "code",
   "execution_count": 56,
   "id": "816021e3-25bc-4d8a-859e-a12890acd7bf",
   "metadata": {},
   "outputs": [
    {
     "data": {
      "text/html": [
       "<div>\n",
       "<style scoped>\n",
       "    .dataframe tbody tr th:only-of-type {\n",
       "        vertical-align: middle;\n",
       "    }\n",
       "\n",
       "    .dataframe tbody tr th {\n",
       "        vertical-align: top;\n",
       "    }\n",
       "\n",
       "    .dataframe thead th {\n",
       "        text-align: right;\n",
       "    }\n",
       "</style>\n",
       "<table border=\"1\" class=\"dataframe\">\n",
       "  <thead>\n",
       "    <tr style=\"text-align: right;\">\n",
       "      <th></th>\n",
       "      <th>subscriber</th>\n",
       "      <th>income</th>\n",
       "      <th>age</th>\n",
       "      <th>var1</th>\n",
       "      <th>gender</th>\n",
       "      <th>house_type</th>\n",
       "      <th>lastVisit</th>\n",
       "      <th>product02</th>\n",
       "    </tr>\n",
       "  </thead>\n",
       "  <tbody>\n",
       "    <tr>\n",
       "      <th>0</th>\n",
       "      <td>1</td>\n",
       "      <td>118239.80</td>\n",
       "      <td>74.32310</td>\n",
       "      <td>1.216512</td>\n",
       "      <td>f</td>\n",
       "      <td>OWNER</td>\n",
       "      <td>1/1/2012 2:09</td>\n",
       "      <td>Nee</td>\n",
       "    </tr>\n",
       "    <tr>\n",
       "      <th>1</th>\n",
       "      <td>2</td>\n",
       "      <td>348760.40</td>\n",
       "      <td>45.86138</td>\n",
       "      <td>3.672188</td>\n",
       "      <td>f</td>\n",
       "      <td>OWNER</td>\n",
       "      <td>1/1/2012 14:03</td>\n",
       "      <td>Ja</td>\n",
       "    </tr>\n",
       "    <tr>\n",
       "      <th>2</th>\n",
       "      <td>3</td>\n",
       "      <td>96111.34</td>\n",
       "      <td>43.18818</td>\n",
       "      <td>0.578956</td>\n",
       "      <td>f</td>\n",
       "      <td>OWNER</td>\n",
       "      <td>1/1/2012 23:58</td>\n",
       "      <td>Nee</td>\n",
       "    </tr>\n",
       "    <tr>\n",
       "      <th>3</th>\n",
       "      <td>4</td>\n",
       "      <td>73818.17</td>\n",
       "      <td>43.32941</td>\n",
       "      <td>-0.129441</td>\n",
       "      <td>m</td>\n",
       "      <td>RENTAL</td>\n",
       "      <td>1/2/2012 3:51</td>\n",
       "      <td>Ja</td>\n",
       "    </tr>\n",
       "    <tr>\n",
       "      <th>4</th>\n",
       "      <td>5</td>\n",
       "      <td>36469.51</td>\n",
       "      <td>34.87954</td>\n",
       "      <td>-0.127675</td>\n",
       "      <td>m</td>\n",
       "      <td>RENTAL</td>\n",
       "      <td>1/2/2012 13:50</td>\n",
       "      <td>Nee</td>\n",
       "    </tr>\n",
       "    <tr>\n",
       "      <th>...</th>\n",
       "      <td>...</td>\n",
       "      <td>...</td>\n",
       "      <td>...</td>\n",
       "      <td>...</td>\n",
       "      <td>...</td>\n",
       "      <td>...</td>\n",
       "      <td>...</td>\n",
       "      <td>...</td>\n",
       "    </tr>\n",
       "    <tr>\n",
       "      <th>9519</th>\n",
       "      <td>9520</td>\n",
       "      <td>79324.85</td>\n",
       "      <td>29.57617</td>\n",
       "      <td>2.261101</td>\n",
       "      <td>m</td>\n",
       "      <td>OWNER</td>\n",
       "      <td>11/21/2016 12:09</td>\n",
       "      <td>Ja</td>\n",
       "    </tr>\n",
       "    <tr>\n",
       "      <th>9520</th>\n",
       "      <td>9521</td>\n",
       "      <td>215149.60</td>\n",
       "      <td>46.34125</td>\n",
       "      <td>0.590807</td>\n",
       "      <td>f</td>\n",
       "      <td>OWNER</td>\n",
       "      <td>11/21/2016 17:58</td>\n",
       "      <td>Ja</td>\n",
       "    </tr>\n",
       "    <tr>\n",
       "      <th>9521</th>\n",
       "      <td>9522</td>\n",
       "      <td>80558.36</td>\n",
       "      <td>37.10520</td>\n",
       "      <td>-0.099423</td>\n",
       "      <td>f</td>\n",
       "      <td>RENTAL</td>\n",
       "      <td>11/21/2016 20:27</td>\n",
       "      <td>Ja</td>\n",
       "    </tr>\n",
       "    <tr>\n",
       "      <th>9522</th>\n",
       "      <td>9523</td>\n",
       "      <td>158810.10</td>\n",
       "      <td>65.85983</td>\n",
       "      <td>-0.263309</td>\n",
       "      <td>f</td>\n",
       "      <td>RENTAL</td>\n",
       "      <td>11/21/2016 22:42</td>\n",
       "      <td>Ja</td>\n",
       "    </tr>\n",
       "    <tr>\n",
       "      <th>9523</th>\n",
       "      <td>9524</td>\n",
       "      <td>163871.50</td>\n",
       "      <td>40.13033</td>\n",
       "      <td>0.159354</td>\n",
       "      <td>f</td>\n",
       "      <td>OWNER</td>\n",
       "      <td>11/22/2016 0:20</td>\n",
       "      <td>Ja</td>\n",
       "    </tr>\n",
       "  </tbody>\n",
       "</table>\n",
       "<p>9046 rows × 8 columns</p>\n",
       "</div>"
      ],
      "text/plain": [
       "      subscriber     income       age      var1 gender house_type  \\\n",
       "0              1  118239.80  74.32310  1.216512      f      OWNER   \n",
       "1              2  348760.40  45.86138  3.672188      f      OWNER   \n",
       "2              3   96111.34  43.18818  0.578956      f      OWNER   \n",
       "3              4   73818.17  43.32941 -0.129441      m     RENTAL   \n",
       "4              5   36469.51  34.87954 -0.127675      m     RENTAL   \n",
       "...          ...        ...       ...       ...    ...        ...   \n",
       "9519        9520   79324.85  29.57617  2.261101      m      OWNER   \n",
       "9520        9521  215149.60  46.34125  0.590807      f      OWNER   \n",
       "9521        9522   80558.36  37.10520 -0.099423      f     RENTAL   \n",
       "9522        9523  158810.10  65.85983 -0.263309      f     RENTAL   \n",
       "9523        9524  163871.50  40.13033  0.159354      f      OWNER   \n",
       "\n",
       "             lastVisit product02  \n",
       "0        1/1/2012 2:09       Nee  \n",
       "1       1/1/2012 14:03        Ja  \n",
       "2       1/1/2012 23:58       Nee  \n",
       "3        1/2/2012 3:51        Ja  \n",
       "4       1/2/2012 13:50       Nee  \n",
       "...                ...       ...  \n",
       "9519  11/21/2016 12:09        Ja  \n",
       "9520  11/21/2016 17:58        Ja  \n",
       "9521  11/21/2016 20:27        Ja  \n",
       "9522  11/21/2016 22:42        Ja  \n",
       "9523   11/22/2016 0:20        Ja  \n",
       "\n",
       "[9046 rows x 8 columns]"
      ]
     },
     "execution_count": 56,
     "metadata": {},
     "output_type": "execute_result"
    }
   ],
   "source": [
    "df[df.isna().sum(axis=1)<=2]"
   ]
  },
  {
   "cell_type": "markdown",
   "id": "173ae910-f01b-45e7-ad4b-4fc66b0e6aa5",
   "metadata": {},
   "source": [
    "8 columns, subscriber, product02 and lastVisit have no Nans. So 5 columns mean no information except lastVisit at all.\n",
    "Since there's no column with high predictability on product02. I think atleast 3 columns excluding lastVisit are needed to be somewhat exact. \n",
    "\n",
    "**HARD ASSUMPTION** might need to tune this to minimum 2 columns."
   ]
  },
  {
   "cell_type": "code",
   "execution_count": null,
   "id": "455be56c-9866-4c7e-b722-e16e0f06acb2",
   "metadata": {},
   "outputs": [],
   "source": []
  }
 ],
 "metadata": {
  "kernelspec": {
   "display_name": "Python 3 (ipykernel)",
   "language": "python",
   "name": "python3"
  },
  "language_info": {
   "codemirror_mode": {
    "name": "ipython",
    "version": 3
   },
   "file_extension": ".py",
   "mimetype": "text/x-python",
   "name": "python",
   "nbconvert_exporter": "python",
   "pygments_lexer": "ipython3",
   "version": "3.11.7"
  }
 },
 "nbformat": 4,
 "nbformat_minor": 5
}
