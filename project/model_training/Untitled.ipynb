{
 "cells": [
  {
   "cell_type": "code",
   "execution_count": 7,
   "id": "595a019f-00b6-4b73-b684-5a7aa1c436bf",
   "metadata": {},
   "outputs": [],
   "source": [
    "import mlflow\n",
    "import pandas as pd\n",
    "from xgboost import XGBClassifier, plot_importance\n",
    "from sklearn.metrics import accuracy_score, precision_score, recall_score, f1_score\n",
    "from sklearn.model_selection import train_test_split\n"
   ]
  },
  {
   "cell_type": "code",
   "execution_count": 3,
   "id": "459bd7c8-13a0-44ad-ac0d-f31d2e0998c0",
   "metadata": {},
   "outputs": [],
   "source": [
    "# parameters\n",
    "seed = 42\n",
    "test_size=0.3"
   ]
  },
  {
   "cell_type": "code",
   "execution_count": 4,
   "id": "32717b15-e5a9-4574-8de6-ed141d7a7fa9",
   "metadata": {},
   "outputs": [],
   "source": [
    "df_raw = pd.read_feather(\"../../data/processed/data-set.ftr\")\n"
   ]
  },
  {
   "cell_type": "code",
   "execution_count": 5,
   "id": "74281078-70c5-4299-9679-b932260bc6df",
   "metadata": {},
   "outputs": [],
   "source": [
    "features = ['income', 'age', 'var1', 'lastVisit_year', \"lastVisit_days\", \"product02_bin\"]\n",
    "df = df_raw[features]\n"
   ]
  },
  {
   "cell_type": "code",
   "execution_count": 8,
   "id": "db3e520a-f7c5-42bb-9311-e82c28851e48",
   "metadata": {},
   "outputs": [],
   "source": [
    "def split_df(df):\n",
    "    X = df.drop('product02_bin', axis=1)\n",
    "    y = df['product02_bin']\n",
    "    \n",
    "    X_train, X_test, y_train, y_test = train_test_split(X, y, test_size=test_size, random_state=seed)\n",
    "    return X_train, X_test, y_train, y_test, X, y\n",
    "\n",
    "X_train, X_test, y_train, y_test, X, y = split_df(df)\n"
   ]
  },
  {
   "cell_type": "code",
   "execution_count": 11,
   "id": "b9180fa0-5887-412b-852e-2fdfbdf26f50",
   "metadata": {},
   "outputs": [],
   "source": [
    "def scoring(y_test, y_pred):\n",
    "    accuracy = accuracy_score(y_test, y_pred)\n",
    "    precision = precision_score(y_test, y_pred)\n",
    "    recall = recall_score(y_test, y_pred)\n",
    "    f1 = f1_score(y_test, y_pred)\n",
    "    \n",
    "    # True pos + True negatives / all predictions\n",
    "    print(f'Accuracy: {accuracy}')\n",
    "    \n",
    "    # True pos of all positive predicted\n",
    "    print(f'Precision: {precision}')\n",
    "    \n",
    "    # True pos of true pos + false neg\n",
    "    print(f'Recall: {recall}')\n",
    "    \n",
    "    # weighted accuracy and precision\n",
    "    print(f'F1-Score: {f1}')\n",
    "    "
   ]
  },
  {
   "cell_type": "code",
   "execution_count": 12,
   "id": "7f7c327b-e58e-4c82-ab1b-1fe93bfc4c8b",
   "metadata": {},
   "outputs": [
    {
     "name": "stdout",
     "output_type": "stream",
     "text": [
      "Accuracy: 0.6746499631540163\n",
      "Precision: 0.6437346437346437\n",
      "Recall: 0.4691136974037601\n",
      "F1-Score: 0.5427239772138789\n"
     ]
    }
   ],
   "source": [
    "xgb_model = XGBClassifier(random_state=42)\n",
    "xgb_model.fit(X_train, y_train)\n",
    "xgb_y_pred = xgb_model.predict(X_test)\n",
    "\n",
    "scoring(y_test, xgb_y_pred)"
   ]
  },
  {
   "cell_type": "code",
   "execution_count": null,
   "id": "51d89844-738a-40c3-8b74-476f01d52b98",
   "metadata": {},
   "outputs": [],
   "source": []
  }
 ],
 "metadata": {
  "kernelspec": {
   "display_name": "Python 3 (ipykernel)",
   "language": "python",
   "name": "python3"
  },
  "language_info": {
   "codemirror_mode": {
    "name": "ipython",
    "version": 3
   },
   "file_extension": ".py",
   "mimetype": "text/x-python",
   "name": "python",
   "nbconvert_exporter": "python",
   "pygments_lexer": "ipython3",
   "version": "3.11.7"
  }
 },
 "nbformat": 4,
 "nbformat_minor": 5
}
